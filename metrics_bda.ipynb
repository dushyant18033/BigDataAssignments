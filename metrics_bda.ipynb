{
 "cells": [
  {
   "cell_type": "code",
   "execution_count": 138,
   "metadata": {
    "id": "46OQQaBmdatU"
   },
   "outputs": [],
   "source": [
    "import numpy as np\n",
    "import pandas as pd"
   ]
  },
  {
   "cell_type": "code",
   "execution_count": 139,
   "metadata": {
    "colab": {
     "base_uri": "https://localhost:8080/"
    },
    "id": "UnE1bqzke1T-",
    "outputId": "e17c3985-c02e-453c-8999-4747e15ec34e"
   },
   "outputs": [
    {
     "name": "stdout",
     "output_type": "stream",
     "text": [
      "100000\n"
     ]
    }
   ],
   "source": [
    "df_real=pd.read_csv('/content/drive/MyDrive/train.csv',nrows=100000)\n",
    "df_real['set']=False\n",
    "df_real.head()\n",
    "print(len(df_real))"
   ]
  },
  {
   "cell_type": "code",
   "execution_count": 122,
   "metadata": {
    "id": "5Kfqzg4CdhYT"
   },
   "outputs": [],
   "source": [
    "from sklearn.metrics import accuracy_score\n",
    "\n",
    "def all_measures(df,thresh=0.5):\n",
    "  # qid1=np.array(df['qid1'],dtype=list)\n",
    "  # qid2=np.array(df['qid2'],dtype=list)\n",
    "  # qids=[]\n",
    "  # tp,tn,fp,fn=0,0,0,0\n",
    "  # for i in range(len(qid1)):\n",
    "  #   qid1[i]=qid1[i][1:-1]\n",
    "  #   qid2[i]=qid2[i][1:-1]\n",
    "  #   if len(qid1[i])>0:\n",
    "  #     qid1[i]=qid1[i].replace(\",\",\" \")\n",
    "  #     qid2[i]=qid2[i].replace(\",\",\" \")\n",
    "  #     qid1[i]=qid1[i].split()\n",
    "  #     qid2[i]=qid2[i].split()  \n",
    "  #     qid1[i] = [int(a) for a in qid1[i]]\n",
    "  #     qid2[i] = [int(a) for a in qid2[i]]\n",
    "  qids=[]\n",
    "  for i in range(len(df['qid1'])):\n",
    "       qids.append([qid1[i],qid2[i]])\n",
    "\n",
    "  print(len(qids))\n",
    "\n",
    "  for j in range(len(qids)):\n",
    "    arr=qids[j]\n",
    "    print(j)\n",
    "    for i in range(len(df_real)):\n",
    "      if df_real['qid1'][i]==arr[0] and df_real['qid2'][i]==arr[1]:\n",
    "        if df_real['is_duplicate'][i]==1:\n",
    "          tp+=1\n",
    "          df_real['set'][i]=True\n",
    "  for i in range(len(df_real)):\n",
    "      if df_real['is_duplicate'][i]==1 and df_real['set'][i]==False:\n",
    "        fn+=1\n",
    "  tn=50000*99999-len(qids)-fn\n",
    "  fp=len(qids)-tp\n",
    "  return tp,tn,fp,fn\n",
    "\n",
    "\n"
   ]
  },
  {
   "cell_type": "code",
   "execution_count": null,
   "metadata": {
    "id": "rFvdpC0vjDqF"
   },
   "outputs": [],
   "source": [
    "df=pd.read_csv('/content/band1.csv')\n",
    "\n",
    "tp,tn,fp,fn=all_measures(df)"
   ]
  },
  {
   "cell_type": "code",
   "execution_count": 134,
   "metadata": {
    "colab": {
     "base_uri": "https://localhost:8080/"
    },
    "id": "SpoF3mzq_scN",
    "outputId": "7a6230d2-9cca-4be2-aaac-7d29dcc6c35e"
   },
   "outputs": [
    {
     "name": "stdout",
     "output_type": "stream",
     "text": [
      "612 24989028000 10750 32100\n",
      "Accuracy: 0.9997855571114223\n",
      "Precision: 0.02767727930535456\n",
      "Recall: 0.030797101449275364\n",
      "F1-score: 0.02915396341463415\n"
     ]
    }
   ],
   "source": [
    "print(tp,tn,fp,fn)\n",
    "acc=(tp+tn)/(tp+tn+fp+fn)\n",
    "precision=(tp)/(tp*2+fp)\n",
    "recall=(tp)/(tp+fn)\n",
    "F1=2*precision*recall/(precision+recall)\n",
    "print(\"Accuracy:\",acc)\n",
    "print(\"Precision:\",precision)\n",
    "print(\"Recall:\", recall)\n",
    "print(\"F1-score:\",F1)"
   ]
  },
  {
   "cell_type": "code",
   "execution_count": 137,
   "metadata": {
    "colab": {
     "base_uri": "https://localhost:8080/",
     "height": 456
    },
    "id": "jPcv0LGvNEkD",
    "outputId": "05bfbbfe-7b17-4ce7-dc43-28aed1101656"
   },
   "outputs": [
    {
     "data": {
      "text/plain": [
       "<matplotlib.axes._subplots.AxesSubplot at 0x7f5c32065d90>"
      ]
     },
     "execution_count": 137,
     "metadata": {
      "tags": []
     },
     "output_type": "execute_result"
    },
    {
     "data": {
      "image/png": "[encoded data removed]",
      "text/plain": [
       "<Figure size 720x504 with 2 Axes>"
      ]
     },
     "metadata": {
      "needs_background": "light",
      "tags": []
     },
     "output_type": "display_data"
    }
   ],
   "source": [
    "\n",
    "\n",
    "import seaborn as sn\n",
    "import matplotlib.pyplot as plt\n",
    "data=[[tp,tn],[fp,fn]]\n",
    "df_cm = pd.DataFrame(data, index = [i for i in \"01\"],\n",
    "                  columns = [i for i in \"10\"])\n",
    "plt.figure(figsize = (10,7))\n",
    "sn.heatmap(df_cm, annot=True)"
   ]
  }
 ],
 "metadata": {
  "colab": {
   "collapsed_sections": [],
   "name": "metrics-bda.ipynb",
   "provenance": []
  },
  "kernelspec": {
   "display_name": "Python 3",
   "language": "python",
   "name": "python3"
  },
  "language_info": {
   "codemirror_mode": {
    "name": "ipython",
    "version": 3
   },
   "file_extension": ".py",
   "mimetype": "text/x-python",
   "name": "python",
   "nbconvert_exporter": "python",
   "pygments_lexer": "ipython3",
   "version": "3.6.8"
  }
 },
 "nbformat": 4,
 "nbformat_minor": 1
}
