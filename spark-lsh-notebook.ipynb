{
 "cells": [
  {
   "cell_type": "markdown",
   "metadata": {},
   "source": [
    "## IMPORTING DATA"
   ]
  },
  {
   "cell_type": "code",
   "execution_count": 1,
   "metadata": {},
   "outputs": [],
   "source": [
    "import pyspark\n",
    "from pyspark import SparkConf\n",
    "from pyspark.sql import SparkSession\n",
    "from pyspark.sql.types import *\n",
    "from pyspark.sql.functions import *"
   ]
  },
  {
   "cell_type": "code",
   "execution_count": 2,
   "metadata": {},
   "outputs": [],
   "source": [
    "conf = SparkConf()\n",
    "conf = conf.setAppName(\"PySpark LSH\") \\\n",
    "    .set(\"spark.mongodb.input.uri\", \"mongodb://127.0.0.1:27017/bda.lsh\") \\\n",
    "    .set(\"spark.mongodb.output.uri\", \"mongodb://127.0.0.1:27017/bda.lsh\") \\\n",
    "    .set('spark.jars.packages','org.mongodb.spark:mongo-spark-connector_2.12-3.0.1') \\\n",
    "    .set(\"spark.local.dir\", \"C:/tmp\") \\"
   ]
  },
  {
   "cell_type": "code",
   "execution_count": 3,
   "metadata": {},
   "outputs": [],
   "source": [
    "sc.stop()\n",
    "sc = SparkContext(conf=conf)"
   ]
  },
  {
   "cell_type": "code",
   "execution_count": 4,
   "metadata": {},
   "outputs": [
    {
     "name": "stdout",
     "output_type": "stream",
     "text": [
      "+--------------------+---+------------+----+----+---------------------+--------------------+\n",
      "|                 _id| id|is_duplicate|qid1|qid2|            question1|           question2|\n",
      "+--------------------+---+------------+----+----+---------------------+--------------------+\n",
      "|[6066bd35b5a6a54b...|  0|       false|   1|   2| What is the step ...|What is the step ...|\n",
      "|[6066bd35b5a6a54b...|  1|       false|   3|   4| What is the story...|What would happen...|\n",
      "|[6066bd35b5a6a54b...|  2|       false|   5|   6| How can I increas...|How can Internet ...|\n",
      "|[6066bd35b5a6a54b...|  3|       false|   7|   8| Why am I mentally...|Find the remainde...|\n",
      "|[6066bd35b5a6a54b...|  4|       false|   9|  10| Which one dissolv...|Which fish would ...|\n",
      "|[6066bd35b5a6a54b...|  5|        true|  11|  12| Astrology: I am a...|I'm a triple Capr...|\n",
      "|[6066bd35b5a6a54b...|  6|       false|  13|  14|  Should I buy tiago?|What keeps childe...|\n",
      "|[6066bd35b5a6a54b...|  7|        true|  15|  16| How can I be a go...|What should I do ...|\n",
      "|[6066bd35b5a6a54b...|  8|       false|  17|  18|When do you use シ...|When do you use \"...|\n",
      "|[6066bd35b5a6a54b...|  9|       false|  19|  20| Motorola (company...|How do I hack Mot...|\n",
      "|[6066bd35b5a6a54b...| 10|       false|  21|  22| Method to find se...|What are some of ...|\n",
      "|[6066bd35b5a6a54b...| 11|        true|  23|  24| How do I read and...|How can I see all...|\n",
      "|[6066bd35b5a6a54b...| 12|        true|  25|  26| What can make Phy...|How can you make ...|\n",
      "|[6066bd35b5a6a54b...| 13|        true|  27|  28| What was your fir...|What was your fir...|\n",
      "|[6066bd35b5a6a54b...| 14|       false|  29|  30| What are the laws...|What are the laws...|\n",
      "|[6066bd35b5a6a54b...| 15|        true|  31|  32| What would a Trum...|How will a Trump ...|\n",
      "|[6066bd35b5a6a54b...| 16|        true|  33|  34| What does manipul...|What does manipul...|\n",
      "|[6066bd35b5a6a54b...| 17|       false|  35|  36| Why do girls want...|How do guys feel ...|\n",
      "|[6066bd35b5a6a54b...| 18|        true|  37|  38| Why are so many Q...|Why do people ask...|\n",
      "|[6066bd35b5a6a54b...| 19|       false|  39|  40| Which is the best...|Which is the best...|\n",
      "+--------------------+---+------------+----+----+---------------------+--------------------+\n",
      "only showing top 20 rows\n",
      "\n"
     ]
    }
   ],
   "source": [
    "spark = SparkSession(sc)\n",
    "\n",
    "df = spark.read.format('com.mongodb.spark.sql.DefaultSource').load()\n",
    "df.show()\n"
   ]
  },
  {
   "cell_type": "markdown",
   "metadata": {},
   "source": [
    "## PREPROCESSING"
   ]
  },
  {
   "cell_type": "code",
   "execution_count": 5,
   "metadata": {},
   "outputs": [],
   "source": [
    "q1 = df.select(col(\"qid1\").alias(\"qid\"), col(\"question1\").alias(\"question\")).limit(100000)\n",
    "q2 = df.select(col(\"qid2\").alias(\"qid\"), col(\"question2\").alias(\"question\")).limit(100000)"
   ]
  },
  {
   "cell_type": "code",
   "execution_count": 6,
   "metadata": {},
   "outputs": [],
   "source": [
    "ques = q1.union(q2).dropDuplicates()"
   ]
  },
  {
   "cell_type": "code",
   "execution_count": 7,
   "metadata": {},
   "outputs": [],
   "source": [
    "ques = ques.orderBy('qid', ascending=True).cache()"
   ]
  },
  {
   "cell_type": "code",
   "execution_count": 8,
   "metadata": {},
   "outputs": [
    {
     "name": "stdout",
     "output_type": "stream",
     "text": [
      "+---+---------------------+\n",
      "|qid|             question|\n",
      "+---+---------------------+\n",
      "|  1| What is the step ...|\n",
      "|  2| What is the step ...|\n",
      "|  3| What is the story...|\n",
      "|  4| What would happen...|\n",
      "|  5| How can I increas...|\n",
      "|  6| How can Internet ...|\n",
      "|  7| Why am I mentally...|\n",
      "|  8| Find the remainde...|\n",
      "|  9| Which one dissolv...|\n",
      "| 10| Which fish would ...|\n",
      "| 11| Astrology: I am a...|\n",
      "| 12| I'm a triple Capr...|\n",
      "| 13|  Should I buy tiago?|\n",
      "| 14| What keeps childe...|\n",
      "| 15| How can I be a go...|\n",
      "| 16| What should I do ...|\n",
      "| 17|When do you use シ...|\n",
      "| 18| When do you use \"...|\n",
      "| 19| Motorola (company...|\n",
      "| 20| How do I hack Mot...|\n",
      "+---+---------------------+\n",
      "only showing top 20 rows\n",
      "\n"
     ]
    }
   ],
   "source": [
    "ques.show()"
   ]
  },
  {
   "cell_type": "code",
   "execution_count": 9,
   "metadata": {},
   "outputs": [],
   "source": [
    "qid_to_ques = dict()\n",
    "\n",
    "for row in ques.collect():\n",
    "    qid_to_ques[row.qid] = row.question"
   ]
  },
  {
   "cell_type": "code",
   "execution_count": null,
   "metadata": {},
   "outputs": [],
   "source": [
    "\n",
    "    "
   ]
  },
  {
   "cell_type": "code",
   "execution_count": null,
   "metadata": {},
   "outputs": [],
   "source": []
  },
  {
   "cell_type": "markdown",
   "metadata": {},
   "source": [
    "## GENERATING SHINGLES"
   ]
  },
  {
   "cell_type": "code",
   "execution_count": 10,
   "metadata": {},
   "outputs": [],
   "source": [
    "def ques_to_shingle(q, k=5):\n",
    "    \n",
    "    n = len(q)\n",
    "    \n",
    "    shingle_set = []\n",
    "    \n",
    "    for i in range(n-k+1):\n",
    "        shingle_set.append(q[i:i+k])\n",
    "    \n",
    "    return shingle_set"
   ]
  },
  {
   "cell_type": "code",
   "execution_count": 11,
   "metadata": {},
   "outputs": [
    {
     "name": "stdout",
     "output_type": "stream",
     "text": [
      "+---+---------------------+--------------------+\n",
      "|qid|             question|            shingles|\n",
      "+---+---------------------+--------------------+\n",
      "|  1| What is the step ...|[What , hat i, at...|\n",
      "|  2| What is the step ...|[What , hat i, at...|\n",
      "|  3| What is the story...|[What , hat i, at...|\n",
      "|  4| What would happen...|[What , hat w, at...|\n",
      "|  5| How can I increas...|[How c, ow ca, w ...|\n",
      "|  6| How can Internet ...|[How c, ow ca, w ...|\n",
      "|  7| Why am I mentally...|[Why a, hy am, y ...|\n",
      "|  8| Find the remainde...|[Find , ind t, nd...|\n",
      "|  9| Which one dissolv...|[Which, hich , ic...|\n",
      "| 10| Which fish would ...|[Which, hich , ic...|\n",
      "| 11| Astrology: I am a...|[Astro, strol, tr...|\n",
      "| 12| I'm a triple Capr...|[I'm a, 'm a , m ...|\n",
      "| 13|  Should I buy tiago?|[Shoul, hould, ou...|\n",
      "| 14| What keeps childe...|[What , hat k, at...|\n",
      "| 15| How can I be a go...|[How c, ow ca, w ...|\n",
      "| 16| What should I do ...|[What , hat s, at...|\n",
      "| 17|When do you use シ...|[When , hen d, en...|\n",
      "| 18| When do you use \"...|[When , hen d, en...|\n",
      "| 19| Motorola (company...|[Motor, otoro, to...|\n",
      "| 20| How do I hack Mot...|[How d, ow do, w ...|\n",
      "+---+---------------------+--------------------+\n",
      "only showing top 20 rows\n",
      "\n"
     ]
    }
   ],
   "source": [
    "create_shingles = udf(ques_to_shingle, ArrayType(StringType()))\n",
    "ques_shingle = ques.withColumn(\"shingles\",create_shingles(ques.question)).cache()\n",
    "ques_shingle.show()"
   ]
  },
  {
   "cell_type": "markdown",
   "metadata": {},
   "source": [
    "## MAPPING SET-OF-SHINGLES TO SET-OF-INTEGERS"
   ]
  },
  {
   "cell_type": "code",
   "execution_count": 12,
   "metadata": {},
   "outputs": [
    {
     "name": "stdout",
     "output_type": "stream",
     "text": [
      "+---+--------------------------------------------------------------------------------------------------------------------------------------------------------------------------------------------------------------------------------------------------------------------------------------------------------------------------------------------------------------------------------------------------------------------------------------------------------------------------------------------------------------------------------------------------------------------------------------------------------------------------+---------------------------------------------------------------------------------------------------------------------------------------------------------------------------------------------------------------------------------------------------------------------------------------------------------------------------------------------------------------------------------------------------------------------------------------------------------------------------------------------------------------------------------------------------------------------------------------------------------------------+\n",
      "|qid|shingles                                                                                                                                                                                                                                                                                                                                                                                                                                                                                                                                                                                                                  |hashed_shingles1                                                                                                                                                                                                                                                                                                                                                                                                                                                                                                                                                                                                     |\n",
      "+---+--------------------------------------------------------------------------------------------------------------------------------------------------------------------------------------------------------------------------------------------------------------------------------------------------------------------------------------------------------------------------------------------------------------------------------------------------------------------------------------------------------------------------------------------------------------------------------------------------------------------------+---------------------------------------------------------------------------------------------------------------------------------------------------------------------------------------------------------------------------------------------------------------------------------------------------------------------------------------------------------------------------------------------------------------------------------------------------------------------------------------------------------------------------------------------------------------------------------------------------------------------+\n",
      "|1  |[What , hat i, at is, t is ,  is t, is th, s the,  the , the s, he st, e ste,  step, step , tep b, ep by, p by ,  by s, by st, y ste,  step, step , tep g, ep gu, p gui,  guid, guide, uide , ide t, de to, e to ,  to i, to in, o inv,  inve, inves, nvest, vest , est i, st in, t in ,  in s, in sh, n sha,  shar, share, hare , are m, re ma, e mar,  mark, marke, arket, rket , ket i, et in, t in ,  in i, in in, n ind,  indi, india, ndia?]                                                                                                                                                                        |(71574,[0,1,2,5,6,7,8,10,40,98,187,203,592,714,737,878,893,932,1035,1083,1101,1147,1419,1530,1648,1792,1805,2002,2066,2435,2793,2877,3081,3498,4333,4640,4783,4807,5094,5717,7303,7771,8801,8913,12812,13308,13642,15036,16608,18217,19362,23743,27220,29375,39437,42927],[1.0,1.0,1.0,1.0,1.0,1.0,1.0,1.0,1.0,1.0,2.0,1.0,1.0,1.0,1.0,1.0,1.0,1.0,1.0,1.0,1.0,1.0,1.0,1.0,1.0,1.0,1.0,1.0,1.0,1.0,1.0,1.0,1.0,1.0,1.0,2.0,1.0,1.0,1.0,1.0,1.0,1.0,1.0,1.0,2.0,1.0,1.0,1.0,1.0,1.0,1.0,1.0,1.0,1.0,1.0,1.0])                                                                                                         |\n",
      "|2  |[What , hat i, at is, t is ,  is t, is th, s the,  the , the s, he st, e ste,  step, step , tep b, ep by, p by ,  by s, by st, y ste,  step, step , tep g, ep gu, p gui,  guid, guide, uide , ide t, de to, e to ,  to i, to in, o inv,  inve, inves, nvest, vest , est i, st in, t in ,  in s, in sh, n sha,  shar, share, hare , are m, re ma, e mar,  mark, marke, arket, rket?]                                                                                                                                                                                                                                       |(71574,[0,1,2,5,6,7,8,10,40,98,187,592,714,737,878,893,932,1035,1083,1101,1147,1648,2002,2066,2435,3081,3498,4333,4640,4783,5094,5717,7303,7771,8368,8801,8913,12812,13308,13642,15036,16608,19362,23743,27220,29375,39437,42927],[1.0,1.0,1.0,1.0,1.0,1.0,1.0,1.0,1.0,1.0,1.0,1.0,1.0,1.0,1.0,1.0,1.0,1.0,1.0,1.0,1.0,1.0,1.0,1.0,1.0,1.0,1.0,1.0,2.0,1.0,1.0,1.0,1.0,1.0,1.0,1.0,1.0,2.0,1.0,1.0,1.0,1.0,1.0,1.0,1.0,1.0,1.0,1.0])                                                                                                                                                                                 |\n",
      "|3  |[What , hat i, at is, t is ,  is t, is th, s the,  the , the s, he st, e sto,  stor, story, tory , ory o, ry of, y of ,  of K, of Ko, f Koh,  Kohi, Kohin, ohino, hinoo, inoor, noor , oor (, or (K, r (Ko,  (Koh, (Koh-, Koh-i, oh-i-, h-i-N, -i-No, i-Noo, -Noor, Noor), oor) , or) D, r) Di, ) Dia,  Diam, Diamo, iamon, amond, mond?]                                                                                                                                                                                                                                                                                 |(71574,[0,1,2,5,6,7,8,10,98,438,1147,1219,1241,1482,2235,2995,4664,12704,25728,25905,67960],[1.0,1.0,1.0,1.0,1.0,1.0,1.0,1.0,1.0,1.0,1.0,1.0,1.0,1.0,1.0,1.0,1.0,1.0,1.0,1.0,1.0])                                                                                                                                                                                                                                                                                                                                                                                                                                   |\n",
      "|4  |[What , hat w, at wo, t wou,  woul, would, ould , uld h, ld ha, d hap,  happ, happe, appen, ppen , pen i, en if, n if ,  if t, if th, f the,  the , the I, he In, e Ind,  Indi, India, ndian, dian , ian g, an go, n gov,  gove, gover, overn, vernm, ernme, rnmen, nment, ment , ent s, nt st, t sto,  stol, stole, tole , ole t, le th, e the,  the , the K, he Ko, e Koh,  Kohi, Kohin, ohino, hinoo, inoor, noor , oor (, or (K, r (Ko,  (Koh, (Koh-, Koh-i, oh-i-, h-i-N, -i-No, i-Noo, -Noor, Noor), oor) , or) d, r) di, ) dia,  diam, diamo, iamon, amond, mond , ond b, nd ba, d bac,  back, back?]              |(71574,[0,1,14,21,57,58,74,115,117,129,186,280,305,354,358,402,512,540,707,1005,1137,1236,1333,1342,1547,1584,1597,1602,1661,1682,1712,1740,1794,1852,1946,2013,2194,2215,2617,2619,6133,6176,7319,8585,9416,9445,10452,11485,15296,23175,25728,25905,28949,34127,35398,38641,40009,43783,46042],[2.0,1.0,1.0,1.0,1.0,1.0,1.0,1.0,1.0,1.0,1.0,1.0,1.0,1.0,1.0,1.0,1.0,1.0,1.0,1.0,1.0,1.0,1.0,1.0,1.0,1.0,1.0,1.0,1.0,1.0,1.0,1.0,1.0,1.0,1.0,1.0,1.0,1.0,1.0,1.0,1.0,1.0,1.0,1.0,1.0,1.0,1.0,1.0,1.0,1.0,1.0,1.0,1.0,1.0,1.0,1.0,1.0,1.0,1.0])                                                                      |\n",
      "|5  |[How c, ow ca, w can,  can , can I, an I , n I i,  I in, I inc,  incr, incre, ncrea, creas, rease, ease , ase t, se th, e the,  the , the s, he sp, e spe,  spee, speed, peed , eed o, ed of, d of ,  of m, of my, f my ,  my i, my in, y int,  inte, inter, ntern, terne, ernet, rnet , net c, et co, t con,  conn, conne, onnec, nnect, necti, ectio, ction, tion , ion w, on wh, n whi,  whil, while, hile , ile u, le us, e usi,  usin, using, sing , ing a, ng a , g a V,  a VP, a VPN,  VPN?]                                                                                                                       |(71574,[0,14,18,28,34,36,37,38,42,84,98,134,165,196,288,300,381,531,672,690,762,832,1034,1112,1152,1166,1211,1415,1576,1600,1603,1654,1701,2090,2125,2145,2228,2468,2600,2704,2814,3049,3340,3342,3482,3552,3585,3708,3766,3978,4004,4214,4250,5240,5580,5975,6058,7715,8289,9499,10063,11820,12658,22681,29367,61349,62073,68751],[1.0,1.0,1.0,1.0,1.0,1.0,1.0,1.0,1.0,1.0,1.0,1.0,1.0,1.0,1.0,1.0,1.0,1.0,1.0,1.0,1.0,1.0,1.0,1.0,1.0,1.0,1.0,1.0,1.0,1.0,1.0,1.0,1.0,1.0,1.0,1.0,1.0,1.0,1.0,1.0,1.0,1.0,1.0,1.0,1.0,1.0,1.0,1.0,1.0,1.0,1.0,1.0,1.0,1.0,1.0,1.0,1.0,1.0,1.0,1.0,1.0,1.0,1.0,1.0,1.0,1.0,1.0,1.0])|\n",
      "|6  |[How c, ow ca, w can,  can , can I, an In, n Int,  Inte, Inter, ntern, terne, ernet, rnet , net s, et sp, t spe,  spee, speed, peed , eed b, ed be, d be ,  be i, be in, e inc,  incr, incre, ncrea, creas, rease, eased, ased , sed b, ed by, d by ,  by h, by ha, y hac,  hack, hacki, ackin, cking, king , ing t, ng th, g thr,  thro, throu, hroug, rough, ough , ugh D, gh DN, h DNS,  DNS?]                                                                                                                                                                                                                         |(71574,[18,34,36,37,38,95,141,272,644,690,698,743,845,951,1051,1192,1207,1415,1519,1576,1600,1603,1654,2062,2090,2468,2498,2600,2750,3049,3100,3223,3683,3978,4214,4987,5941,6576,7453,8326,8456,9604,14218,16214,17548,17879,18090,29433,31728,35442,41550],[1.0,1.0,1.0,1.0,1.0,1.0,1.0,1.0,1.0,1.0,1.0,1.0,1.0,1.0,1.0,1.0,1.0,1.0,1.0,1.0,1.0,1.0,1.0,1.0,1.0,1.0,1.0,1.0,1.0,1.0,1.0,1.0,1.0,1.0,1.0,1.0,1.0,1.0,1.0,1.0,1.0,1.0,1.0,1.0,1.0,1.0,1.0,1.0,1.0,1.0,1.0])                                                                                                                                          |\n",
      "|7  |[Why a, hy am, y am ,  am I, am I , m I m,  I me, I men,  ment, menta, ental, ntall, tally, ally , lly v, ly ve, y ver,  very, very , ery l, ry lo, y lon,  lone, lonel, onely, nely?, ely? , ly? H, y? Ho, ? How,  How , How c, ow ca, w can,  can , can I, an I , n I s,  I so, I sol,  solv, solve, olve , lve i, ve it, e it?]                                                                                                                                                                                                                                                                                        |(71574,[18,28,34,36,37,38,153,229,481,635,666,901,1982,2492,2527,3183,3449,3545,4679,4721,4861,7032,8044,8150,8420,8648,9004,9348,11316,11573,13459,14133,14592,14882,21449,25699,26817,28564,30208,40352,47423,48350,60699,67284],[1.0,1.0,1.0,1.0,1.0,1.0,1.0,1.0,1.0,1.0,1.0,1.0,1.0,1.0,1.0,1.0,1.0,1.0,1.0,1.0,1.0,1.0,1.0,1.0,1.0,1.0,1.0,1.0,1.0,1.0,1.0,1.0,1.0,1.0,1.0,1.0,1.0,1.0,1.0,1.0,1.0,1.0,1.0,1.0])                                                                                                                                                                                                |\n",
      "|8  |[Find , ind t, nd th, d the,  the , the r, he re, e rem,  rema, remai, emain, maind, ainde, inder, nder , der w, er wh, r whe,  when, when , hen [, en [m, n [ma,  [mat, [math, math], ath]2, th]23, h]23^, ]23^{, 23^{2, 3^{24, ^{24}, {24}[, 24}[/, 4}[/m, }[/ma, [/mat, /math, math], ath] , th] i, h] is, ] is ,  is d, is di, s div,  divi, divid, ivide, vided, ided , ded b, ed by, d by ,  by 2, by 24, y 24,,  24,2, 24,23, 4,23?]                                                                                                                                                                               |(71574,[0,133,135,140,342,392,642,743,756,845,1922,2000,2510,3121,4078,4509,4558,4582,4689,5237,6279,7042,7285,7381,7536,9759,9777,10335,10578,10897,11973,12117,13328,16979,26049,27025,33969,34729,38089,39568,43545,55945,59745,69647],[1.0,1.0,1.0,1.0,1.0,1.0,1.0,1.0,1.0,1.0,2.0,1.0,1.0,1.0,1.0,1.0,1.0,1.0,1.0,1.0,1.0,1.0,1.0,1.0,1.0,1.0,1.0,1.0,1.0,1.0,1.0,1.0,1.0,1.0,1.0,1.0,1.0,1.0,1.0,1.0,1.0,1.0,1.0,1.0])                                                                                                                                                                                         |\n",
      "|9  |[Which, hich , ich o, ch on, h one,  one , one d, ne di, e dis,  diss, disso, issol, ssolv, solve, olve , lve i, ve in, e in ,  in w, in wa, n wat,  wate, water, ater , ter q, er qu, r qui,  quik, quikl, uikly, ikly , kly s, ly su, y sug,  suga, sugar, ugar,, gar, , ar, s, r, sa, , sal,  salt, salt,, alt, , lt, m, t, me, , met,  meth, metha, ethan, thane, hane , ane a, ne an, e and,  and , and c, nd ca, d car,  carb, carbo, arbon, rbon , bon d, on di, n di ,  di o, di ox, i oxi,  oxid, oxide, xide?]                                                                                                  |(71574,[4,43,63,64,158,183,580,906,1158,1272,1340,2531,2604,3068,3087,3138,3183,3490,3545,4298,4503,5929,7168,8759,8901,9425,10098,11049,12979,13835,14079,14307,16331,16649,19302,19484,21291,22388,24431,27902,28564,30065,31754,33409,34859,34908,39165,42967,44274,52578,55243,66268,66783],[1.0,1.0,1.0,1.0,1.0,1.0,1.0,1.0,1.0,1.0,1.0,1.0,1.0,1.0,1.0,1.0,1.0,1.0,1.0,1.0,1.0,1.0,1.0,1.0,1.0,1.0,1.0,1.0,1.0,1.0,1.0,1.0,1.0,1.0,1.0,1.0,1.0,1.0,1.0,1.0,1.0,1.0,1.0,1.0,1.0,1.0,1.0,1.0,1.0,1.0,1.0,1.0,1.0])                                                                                               |\n",
      "|10 |[Which, hich , ich f, ch fi, h fis,  fish, fish , ish w, sh wo, h wou,  woul, would, ould , uld s, ld su, d sur,  surv, survi, urviv, rvive, vive , ive i, ve in, e in ,  in s, in sa, n sal,  salt, salt , alt w, lt wa, t wat,  wate, water, ater?]                                                                                                                                                                                                                                                                                                                                                                     |(71574,[21,43,63,64,115,117,906,1083,1158,1272,1460,5744,6004,6091,7469,7773,8851,10155,11106,11415,11439,11542,12297,12846,14307,19191,19786,22038,24043,24730,27920,31185,40077,41891],[1.0,1.0,1.0,1.0,1.0,1.0,1.0,1.0,1.0,1.0,1.0,1.0,1.0,1.0,1.0,1.0,1.0,1.0,1.0,1.0,1.0,1.0,1.0,1.0,1.0,1.0,1.0,1.0,1.0,1.0,1.0,1.0,1.0,1.0])                                                                                                                                                                                                                                                                                  |\n",
      "|11 |[Astro, strol, trolo, rolog, ology, logy:, ogy: , gy: I, y: I , : I a,  I am, I am ,  am a, am a , m a C,  a Ca, a Cap,  Capr, Capri, apric, prico, ricor, icorn, corn , orn S, rn Su, n Sun,  Sun , Sun C, un Ca, n Cap,  Cap , Cap m, ap mo, p moo,  moon, moon , oon a, on an, n and,  and , and c, nd ca, d cap,  cap , cap r, ap ri, p ris,  risi, risin, ising, sing., ing.., ng..., g...w, ...wh, ..wha, .what, what , hat d, at do, t doe,  does, does , oes t, es th, s tha,  that, that , hat s, at sa, t say,  say , say a, ay ab, y abo,  abou, about, bout , out m, ut me, t me?]                            |(71574,[4,39,41,47,51,86,106,116,118,131,137,193,201,239,271,343,351,500,580,842,984,1030,1527,2173,3367,3515,5627,5929,9178,9252,9370,11708,11847,12350,14267,16316,17133,18046,19691,19986,20744,20919,21200,25011,26927,29380,30046,31178,36935,37016,38243,38601,39971,40743,40920,45643,47029,51668,52250,53434,54326,54958],[1.0,1.0,1.0,1.0,1.0,1.0,1.0,1.0,1.0,1.0,1.0,1.0,1.0,1.0,1.0,1.0,1.0,1.0,1.0,1.0,1.0,1.0,1.0,1.0,1.0,1.0,1.0,1.0,1.0,1.0,1.0,1.0,1.0,1.0,1.0,1.0,1.0,1.0,1.0,1.0,1.0,1.0,1.0,1.0,1.0,1.0,1.0,1.0,1.0,1.0,1.0,1.0,1.0,1.0,1.0,1.0,1.0,1.0,1.0,1.0,1.0,1.0])                         |\n",
      "|12 |[I'm a, 'm a , m a t,  a tr, a tri,  trip, tripl, riple, iple , ple C, le Ca, e Cap,  Capr, Capri, apric, prico, ricor, icorn, corn , orn (, rn (S, n (Su,  (Sun, (Sun,, Sun, , un, M, n, Mo, , Moo,  Moon, Moon , oon a, on an, n and,  and , and a, nd as, d asc,  asce, ascen, scend, cenda, endan, ndant, dant , ant i, nt in, t in ,  in C, in Ca, n Cap,  Capr, Capri, apric, prico, ricor, icorn, corn), orn) , rn) W, n) Wh, ) Wha,  What, What , hat d, at do, t doe,  does, does , oes t, es th, s thi,  this, this , his s, is sa, s say,  say , say a, ay ab, y abo,  abou, about, bout , out m, ut me, t me?]|(71574,[1,4,39,41,86,100,106,116,118,131,187,201,226,239,284,351,379,500,624,731,1030,1032,1527,3515,4307,4312,4479,4672,5095,6442,7320,8291,9252,13626,14473,16178,16316,16988,17133,17778,18046,18741,19986,20110,20744,23340,25011,25708,28674,33816,35651,37641,38243,39971,40743,42650,46726,47029,51668,52250,54326,54441,70521],[1.0,1.0,1.0,1.0,1.0,1.0,1.0,1.0,1.0,1.0,1.0,1.0,1.0,1.0,1.0,1.0,1.0,1.0,1.0,1.0,1.0,1.0,1.0,1.0,1.0,1.0,1.0,1.0,1.0,1.0,1.0,1.0,1.0,1.0,1.0,1.0,1.0,1.0,1.0,1.0,1.0,1.0,1.0,1.0,1.0,1.0,1.0,1.0,1.0,1.0,1.0,1.0,1.0,2.0,2.0,1.0,1.0,2.0,2.0,2.0,2.0,1.0,1.0])                |\n",
      "|13 |[Shoul, hould, ould , uld I, ld I , d I b,  I bu, I buy,  buy , buy t, uy ti, y tia,  tiag, tiago, iago?]                                                                                                                                                                                                                                                                                                                                                                                                                                                                                                                 |(71574,[21,50,83,87,464,750,1824,2374,3050,15678],[1.0,1.0,1.0,1.0,1.0,1.0,1.0,1.0,1.0,1.0])                                                                                                                                                                                                                                                                                                                                                                                                                                                                                                                         |\n",
      "|14 |[What , hat k, at ke, t kee,  keep, keeps, eeps , eps c, ps ch, s chi,  chil, child, hilde, ilder, ldern, dern , ern a, rn ac, n act,  acti, activ, ctive, tive , ive a, ve an, e and,  and , and f, nd fa, d far,  far , far f, ar fr, r fro,  from, from , rom p, om ph, m pho,  phon, phone, hone , one a, ne an, e and,  and , and v, nd vi, d vid,  vide, video, ideo , deo g, eo ga, o gam,  game, games, ames?]                                                                                                                                                                                                    |(71574,[1,4,62,65,183,309,396,435,626,795,1160,1187,1250,1254,1494,1534,1585,1861,1962,2020,2428,2446,2641,2676,3264,3333,4503,6136,7051,7854,8161,11245,11896,11953,12220,12438,12502,14688,15102,18156,18631,19757,23106,23160,23391,24669,35999,37153,46288,47590,56642,68615,71029],[1.0,2.0,1.0,1.0,2.0,1.0,1.0,1.0,1.0,1.0,1.0,1.0,1.0,1.0,1.0,1.0,1.0,1.0,1.0,1.0,1.0,1.0,1.0,1.0,1.0,1.0,1.0,1.0,1.0,1.0,1.0,1.0,1.0,1.0,1.0,1.0,1.0,1.0,1.0,1.0,1.0,1.0,1.0,1.0,1.0,1.0,1.0,1.0,1.0,1.0,1.0,1.0,1.0])                                                                                                       |\n",
      "|15 |[How c, ow ca, w can,  can , can I, an I , n I b,  I be, I be ,  be a, be a , e a g,  a go, a goo,  good, good , ood g, od ge, d geo,  geol, geolo, eolog, ologi, logis, ogist, gist?]                                                                                                                                                                                                                                                                                                                                                                                                                                    |(71574,[18,28,34,36,37,38,88,104,409,433,444,781,1144,1247,1351,3038,3292,9779,10943,11032,18132,32795,45258,45778],[1.0,1.0,1.0,1.0,1.0,1.0,1.0,1.0,1.0,1.0,1.0,1.0,1.0,1.0,1.0,1.0,1.0,1.0,1.0,1.0,1.0,1.0,1.0,1.0])                                                                                                                                                                                                                                                                                                                                                                                               |\n",
      "|16 |[What , hat s, at sh, t sho,  shou, shoul, hould, ould , uld I, ld I , d I d,  I do, I do ,  do t, do to, o to ,  to b, to be, o be ,  be a, be a , e a g,  a gr, a gre,  grea, great, reat , eat g, at ge, t geo,  geol, geolo, eolog, ologi, logis, ogist, gist?]                                                                                                                                                                                                                                                                                                                                                       |(71574,[1,21,50,72,73,83,87,122,193,198,228,267,297,334,382,444,526,541,764,1144,1281,1351,1621,1633,1676,3038,3968,7125,10943,11032,18132,28013,32795,42463,45258,45778],[1.0,1.0,1.0,1.0,1.0,1.0,1.0,1.0,1.0,1.0,1.0,1.0,1.0,1.0,1.0,1.0,1.0,1.0,1.0,1.0,1.0,1.0,1.0,1.0,1.0,1.0,1.0,1.0,1.0,1.0,1.0,1.0,1.0,1.0,1.0,1.0])                                                                                                                                                                                                                                                                                         |\n",
      "|17 |[When , hen d, en do, n do ,  do y, do yo, o you,  you , you u, ou us, u use,  use , use シ, se シ , e シ i,  シ in, シ ins,  inst, inste, nstea, stead, tead , ead o, ad of, d of ,  of し, of し?]                                                                                                                                                                                                                                                                                                                                                                                                                      |(71574,[17,66,89,90,288,289,569,606,3205,3355,3559,3642,3759,3787,3869,4131,4169,4232,5719,6193],[1.0,1.0,1.0,1.0,1.0,1.0,1.0,1.0,1.0,1.0,1.0,1.0,1.0,1.0,1.0,1.0,1.0,1.0,1.0,1.0])                                                                                                                                                                                                                                                                                                                                                                                                                                  |\n",
      "|18 |[When , hen d, en do, n do ,  do y, do yo, o you,  you , you u, ou us, u use,  use , use \", se \"&, e \"&\",  \"&\" , \"&\" i, &\" in, \" ins,  inst, inste, nstea, stead, tead , ead o, ad of, d of ,  of \", of \"a, f \"an,  \"and, \"and\", and\"?]                                                                                                                                                                                                                                                                                                                                                                                   |(71574,[17,66,89,90,288,289,569,606,3205,3355,3559,3642,3759,3787,3869,4131,4169,4232,5719,5951,6193,29044,52615,68505],[1.0,1.0,1.0,1.0,1.0,1.0,1.0,1.0,1.0,1.0,1.0,1.0,1.0,1.0,1.0,1.0,1.0,1.0,1.0,1.0,1.0,1.0,1.0,1.0])                                                                                                                                                                                                                                                                                                                                                                                           |\n",
      "|19 |[Motor, otoro, torol, orola, rola , ola (, la (c, a (co,  (com, (comp, compa, ompan, mpany, pany), any):, ny): , y): C, ): Ca, : Can,  Can , Can I, an I , n I h,  I ha, I hac,  hack, hack , ack m, ck my, k my ,  my C, my Ch, y Cha,  Char, Chart, harte, arter, rter , ter M, er Mo, r Mot,  Moto, Motor, otoro, torol, oroll, rolla, olla , lla D, la DC, a DCX,  DCX3, DCX34, CX340, X3400, 3400?]                                                                                                                                                                                                                  |(71574,[28,214,440,463,560,904,1519,2214,4660,5109,5347,6586,8146,9836,9925,11273,13879,14794,18583,19469,23759,28263,28296,32633,35749,36091,40956,43599,45690,50387,50991,51695,52994,57304,60072,61209,65672,68338],[1.0,1.0,1.0,1.0,1.0,1.0,1.0,1.0,1.0,1.0,1.0,1.0,1.0,1.0,1.0,1.0,1.0,1.0,1.0,1.0,1.0,1.0,1.0,1.0,1.0,2.0,1.0,1.0,1.0,1.0,2.0,2.0,1.0,1.0,1.0,1.0,1.0,1.0])                                                                                                                                                                                                                                    |\n",
      "|20 |[How d, ow do, w do ,  do I, do I , o I h,  I ha, I hac,  hack, hack , ack M, ck Mo, k Mot,  Moto, Motor, otoro, torol, orola, rola , ola D, la DC, a DCX,  DCX3, DCX34, CX340, X3400, 3400 , 400 f, 00 fo, 0 for,  for , for f, or fr, r fre,  free, free , ree i, ee in, e int,  inte, inter, ntern, terne, ernet, rnet?]                                                                                                                                                                                                                                                                                               |(71574,[9,15,16,19,30,31,134,165,560,652,690,996,1431,1519,2039,2468,2600,3677,3689,3880,5109,5804,7810,9469,9836,13879,28123,36091,37710,49933,50991,51695,52994,57304],[1.0,1.0,1.0,1.0,1.0,1.0,1.0,1.0,1.0,1.0,1.0,1.0,1.0,1.0,1.0,1.0,1.0,1.0,1.0,1.0,1.0,1.0,1.0,1.0,1.0,1.0,1.0,1.0,1.0,1.0,1.0,1.0,1.0,1.0])                                                                                                                                                                                                                                                                                                  |\n",
      "+---+--------------------------------------------------------------------------------------------------------------------------------------------------------------------------------------------------------------------------------------------------------------------------------------------------------------------------------------------------------------------------------------------------------------------------------------------------------------------------------------------------------------------------------------------------------------------------------------------------------------------------+---------------------------------------------------------------------------------------------------------------------------------------------------------------------------------------------------------------------------------------------------------------------------------------------------------------------------------------------------------------------------------------------------------------------------------------------------------------------------------------------------------------------------------------------------------------------------------------------------------------------+\n",
      "only showing top 20 rows\n",
      "\n"
     ]
    }
   ],
   "source": [
    "from pyspark.ml.feature import CountVectorizer\n",
    "cv = CountVectorizer(inputCol=\"shingles\", outputCol=\"hashed_shingles1\",minDF=11,vocabSize=1<<20)\n",
    "\n",
    "model = cv.fit(ques_shingle)\n",
    "\n",
    "ques_shingle_hashed = model.transform(ques_shingle).cache()\n",
    "ques_shingle_hashed.select([\"qid\",\"shingles\",\"hashed_shingles1\"]).show(truncate=False)\n"
   ]
  },
  {
   "cell_type": "code",
   "execution_count": 13,
   "metadata": {},
   "outputs": [
    {
     "name": "stdout",
     "output_type": "stream",
     "text": [
      "+---+---------------------+--------------------+--------------------+--------------------+\n",
      "|qid|             question|            shingles|    hashed_shingles1|     hashed_shingles|\n",
      "+---+---------------------+--------------------+--------------------+--------------------+\n",
      "|  1| What is the step ...|[What , hat i, at...|(71574,[0,1,2,5,6...|[0, 1, 2, 5, 6, 7...|\n",
      "|  2| What is the step ...|[What , hat i, at...|(71574,[0,1,2,5,6...|[0, 1, 2, 5, 6, 7...|\n",
      "|  3| What is the story...|[What , hat i, at...|(71574,[0,1,2,5,6...|[0, 1, 2, 5, 6, 7...|\n",
      "|  4| What would happen...|[What , hat w, at...|(71574,[0,1,14,21...|[0, 1, 14, 21, 57...|\n",
      "|  5| How can I increas...|[How c, ow ca, w ...|(71574,[0,14,18,2...|[0, 14, 18, 28, 3...|\n",
      "|  6| How can Internet ...|[How c, ow ca, w ...|(71574,[18,34,36,...|[18, 34, 36, 37, ...|\n",
      "|  7| Why am I mentally...|[Why a, hy am, y ...|(71574,[18,28,34,...|[18, 28, 34, 36, ...|\n",
      "|  8| Find the remainde...|[Find , ind t, nd...|(71574,[0,133,135...|[0, 133, 135, 140...|\n",
      "|  9| Which one dissolv...|[Which, hich , ic...|(71574,[4,43,63,6...|[4, 43, 63, 64, 1...|\n",
      "| 10| Which fish would ...|[Which, hich , ic...|(71574,[21,43,63,...|[21, 43, 63, 64, ...|\n",
      "| 11| Astrology: I am a...|[Astro, strol, tr...|(71574,[4,39,41,4...|[4, 39, 41, 47, 5...|\n",
      "| 12| I'm a triple Capr...|[I'm a, 'm a , m ...|(71574,[1,4,39,41...|[1, 4, 39, 41, 86...|\n",
      "| 13|  Should I buy tiago?|[Shoul, hould, ou...|(71574,[21,50,83,...|[21, 50, 83, 87, ...|\n",
      "| 14| What keeps childe...|[What , hat k, at...|(71574,[1,4,62,65...|[1, 4, 62, 65, 18...|\n",
      "| 15| How can I be a go...|[How c, ow ca, w ...|(71574,[18,28,34,...|[18, 28, 34, 36, ...|\n",
      "| 16| What should I do ...|[What , hat s, at...|(71574,[1,21,50,7...|[1, 21, 50, 72, 7...|\n",
      "| 17|When do you use シ...|[When , hen d, en...|(71574,[17,66,89,...|[17, 66, 89, 90, ...|\n",
      "| 18| When do you use \"...|[When , hen d, en...|(71574,[17,66,89,...|[17, 66, 89, 90, ...|\n",
      "| 19| Motorola (company...|[Motor, otoro, to...|(71574,[28,214,44...|[28, 214, 440, 46...|\n",
      "| 20| How do I hack Mot...|[How d, ow do, w ...|(71574,[9,15,16,1...|[9, 15, 16, 19, 3...|\n",
      "+---+---------------------+--------------------+--------------------+--------------------+\n",
      "only showing top 20 rows\n",
      "\n"
     ]
    }
   ],
   "source": [
    "hashed_shingles = udf( (lambda shingle : shingle.indices.tolist()) , ArrayType(IntegerType()))\n",
    "ques_shingle_hashed = ques_shingle_hashed.withColumn(\"hashed_shingles\",hashed_shingles(ques_shingle_hashed.hashed_shingles1)).cache()\n",
    "ques_shingle_hashed.show()"
   ]
  },
  {
   "cell_type": "code",
   "execution_count": 14,
   "metadata": {},
   "outputs": [
    {
     "name": "stdout",
     "output_type": "stream",
     "text": [
      "+---+--------------------+\n",
      "|qid|     hashed_shingles|\n",
      "+---+--------------------+\n",
      "|  1|[0, 1, 2, 5, 6, 7...|\n",
      "|  2|[0, 1, 2, 5, 6, 7...|\n",
      "|  3|[0, 1, 2, 5, 6, 7...|\n",
      "|  4|[0, 1, 14, 21, 57...|\n",
      "|  5|[0, 14, 18, 28, 3...|\n",
      "|  6|[18, 34, 36, 37, ...|\n",
      "|  7|[18, 28, 34, 36, ...|\n",
      "|  8|[0, 133, 135, 140...|\n",
      "|  9|[4, 43, 63, 64, 1...|\n",
      "| 10|[21, 43, 63, 64, ...|\n",
      "| 11|[4, 39, 41, 47, 5...|\n",
      "| 12|[1, 4, 39, 41, 86...|\n",
      "| 13|[21, 50, 83, 87, ...|\n",
      "| 14|[1, 4, 62, 65, 18...|\n",
      "| 15|[18, 28, 34, 36, ...|\n",
      "| 16|[1, 21, 50, 72, 7...|\n",
      "| 17|[17, 66, 89, 90, ...|\n",
      "| 18|[17, 66, 89, 90, ...|\n",
      "| 19|[28, 214, 440, 46...|\n",
      "| 20|[9, 15, 16, 19, 3...|\n",
      "+---+--------------------+\n",
      "only showing top 20 rows\n",
      "\n"
     ]
    }
   ],
   "source": [
    "ques_shingle_hashed = ques_shingle_hashed.select([\"qid\",\"hashed_shingles\"]).cache()\n",
    "ques_shingle_hashed.show()"
   ]
  },
  {
   "cell_type": "code",
   "execution_count": null,
   "metadata": {},
   "outputs": [],
   "source": []
  },
  {
   "cell_type": "code",
   "execution_count": null,
   "metadata": {},
   "outputs": [],
   "source": []
  },
  {
   "cell_type": "markdown",
   "metadata": {},
   "source": [
    "## MIN-HASHING TO GENERATE SIGNATURES"
   ]
  },
  {
   "cell_type": "code",
   "execution_count": 15,
   "metadata": {},
   "outputs": [],
   "source": [
    "num_hash_fns = 100"
   ]
  },
  {
   "cell_type": "code",
   "execution_count": 16,
   "metadata": {},
   "outputs": [],
   "source": [
    "def hash_func(a,x,n):\n",
    "    # (a*x+1)%n - family of hash functions\n",
    "    return (a*x+1)%n"
   ]
  },
  {
   "cell_type": "code",
   "execution_count": 17,
   "metadata": {},
   "outputs": [],
   "source": [
    "def min_hash(shingle, n=165931):\n",
    "    \n",
    "    signature = [float(\"inf\")]*num_hash_fns\n",
    "    \n",
    "    for h in range(num_hash_fns):\n",
    "        for i in shingle:\n",
    "            hash_val = hash_func(h+1,i,n)\n",
    "            if hash_val < signature[h]:\n",
    "                signature[h] = hash_val\n",
    "    \n",
    "    return signature"
   ]
  },
  {
   "cell_type": "code",
   "execution_count": 18,
   "metadata": {},
   "outputs": [
    {
     "name": "stdout",
     "output_type": "stream",
     "text": [
      "+---+--------------------+--------------------+\n",
      "|qid|     hashed_shingles|          signatures|\n",
      "+---+--------------------+--------------------+\n",
      "|  1|[0, 1, 2, 5, 6, 7...|[1, 1, 1, 1, 1, 1...|\n",
      "|  2|[0, 1, 2, 5, 6, 7...|[1, 1, 1, 1, 1, 1...|\n",
      "|  3|[0, 1, 2, 5, 6, 7...|[1, 1, 1, 1, 1, 1...|\n",
      "|  4|[0, 1, 14, 21, 57...|[1, 1, 1, 1, 1, 1...|\n",
      "|  5|[0, 14, 18, 28, 3...|[1, 1, 1, 1, 1, 1...|\n",
      "|  6|[18, 34, 36, 37, ...|[19, 37, 55, 73, ...|\n",
      "|  7|[18, 28, 34, 36, ...|[19, 37, 55, 73, ...|\n",
      "|  8|[0, 133, 135, 140...|[1, 1, 1, 1, 1, 1...|\n",
      "|  9|[4, 43, 63, 64, 1...|[5, 9, 13, 17, 21...|\n",
      "| 10|[21, 43, 63, 64, ...|[22, 43, 64, 85, ...|\n",
      "| 11|[4, 39, 41, 47, 5...|[5, 9, 13, 17, 21...|\n",
      "| 12|[1, 4, 39, 41, 86...|[2, 3, 4, 5, 6, 7...|\n",
      "| 13|[21, 50, 83, 87, ...|[22, 43, 64, 85, ...|\n",
      "| 14|[1, 4, 62, 65, 18...|[2, 3, 4, 5, 6, 7...|\n",
      "| 15|[18, 28, 34, 36, ...|[19, 37, 55, 73, ...|\n",
      "| 16|[1, 21, 50, 72, 7...|[2, 3, 4, 5, 6, 7...|\n",
      "| 17|[17, 66, 89, 90, ...|[18, 35, 52, 69, ...|\n",
      "| 18|[17, 66, 89, 90, ...|[18, 35, 52, 69, ...|\n",
      "| 19|[28, 214, 440, 46...|[29, 57, 85, 113,...|\n",
      "| 20|[9, 15, 16, 19, 3...|[10, 19, 28, 37, ...|\n",
      "+---+--------------------+--------------------+\n",
      "only showing top 20 rows\n",
      "\n"
     ]
    }
   ],
   "source": [
    "create_signatures = udf(min_hash, ArrayType(IntegerType()))\n",
    "ques_signatures = ques_shingle_hashed.withColumn(\"signatures\",create_signatures(ques_shingle_hashed.hashed_shingles)).cache()\n",
    "ques_signatures.show()"
   ]
  },
  {
   "cell_type": "code",
   "execution_count": null,
   "metadata": {},
   "outputs": [],
   "source": []
  },
  {
   "cell_type": "code",
   "execution_count": null,
   "metadata": {},
   "outputs": [],
   "source": []
  },
  {
   "cell_type": "markdown",
   "metadata": {},
   "source": [
    "## DIVIDING INTO BANDS"
   ]
  },
  {
   "cell_type": "code",
   "execution_count": 19,
   "metadata": {},
   "outputs": [],
   "source": [
    "bands = 10\n",
    "rows_per_band = num_hash_fns//bands\n",
    "\n",
    "def LSH_buckets(signature, k = 100000):\n",
    "    \n",
    "    hash_buckets = []\n",
    "    \n",
    "    for b in range(bands):\n",
    "        sign_b = 1\n",
    "        for i in range(b*rows_per_band,(b+1)*rows_per_band):\n",
    "            if (signature[i] is not None):\n",
    "                sign_b *= (signature[i]%k)\n",
    "        \n",
    "        hash_buckets.append(sign_b%k)\n",
    "    \n",
    "    return hash_buckets"
   ]
  },
  {
   "cell_type": "code",
   "execution_count": 20,
   "metadata": {},
   "outputs": [
    {
     "name": "stdout",
     "output_type": "stream",
     "text": [
      "+---+--------------------+--------------------+--------------------+\n",
      "|qid|     hashed_shingles|          signatures|          Hash_Bands|\n",
      "+---+--------------------+--------------------+--------------------+\n",
      "|  1|[0, 1, 2, 5, 6, 7...|[1, 1, 1, 1, 1, 1...|[1, 1, 1, 1, 1, 1...|\n",
      "|  2|[0, 1, 2, 5, 6, 7...|[1, 1, 1, 1, 1, 1...|[1, 1, 1, 1, 1, 1...|\n",
      "|  3|[0, 1, 2, 5, 6, 7...|[1, 1, 1, 1, 1, 1...|[1, 1, 1, 1, 1, 1...|\n",
      "|  4|[0, 1, 14, 21, 57...|[1, 1, 1, 1, 1, 1...|[1, 1, 1, 1, 1, 1...|\n",
      "|  5|[0, 14, 18, 28, 3...|[1, 1, 1, 1, 1, 1...|[1, 1, 1, 1, 1, 1...|\n",
      "|  6|[18, 34, 36, 37, ...|[19, 37, 55, 73, ...|[6975, 31375, 682...|\n",
      "|  7|[18, 28, 34, 36, ...|[19, 37, 55, 73, ...|[42500, 4125, 312...|\n",
      "|  8|[0, 133, 135, 140...|[1, 1, 1, 1, 1, 1...|[1, 1, 1, 1, 1, 1...|\n",
      "|  9|[4, 43, 63, 64, 1...|[5, 9, 13, 17, 21...|[20125, 30925, 69...|\n",
      "| 10|[21, 43, 63, 64, ...|[22, 43, 64, 85, ...|[10400, 28000, 96...|\n",
      "| 11|[4, 39, 41, 47, 5...|[5, 9, 13, 17, 21...|[46750, 43535, 98...|\n",
      "| 12|[1, 4, 39, 41, 86...|[2, 3, 4, 5, 6, 7...|[16800, 20800, 52...|\n",
      "| 13|[21, 50, 83, 87, ...|[22, 43, 64, 85, ...|[10400, 28000, 32...|\n",
      "| 14|[1, 4, 62, 65, 18...|[2, 3, 4, 5, 6, 7...|[16800, 20800, 52...|\n",
      "| 15|[18, 28, 34, 36, ...|[19, 37, 55, 73, ...|[6975, 6750, 8862...|\n",
      "| 16|[1, 21, 50, 72, 7...|[2, 3, 4, 5, 6, 7...|[16800, 20800, 52...|\n",
      "| 17|[17, 66, 89, 90, ...|[18, 35, 52, 69, ...|[19200, 63200, 60...|\n",
      "| 18|[17, 66, 89, 90, ...|[18, 35, 52, 69, ...|[19200, 63200, 60...|\n",
      "| 19|[28, 214, 440, 46...|[29, 57, 85, 113,...|[69125, 81750, 54...|\n",
      "| 20|[9, 15, 16, 19, 3...|[10, 19, 28, 37, ...|[12800, 92000, 66...|\n",
      "+---+--------------------+--------------------+--------------------+\n",
      "only showing top 20 rows\n",
      "\n"
     ]
    }
   ],
   "source": [
    "create_hash_buckets = udf(LSH_buckets, StructType([ StructField(\"band\"+str(b+1), IntegerType(), False) for b in range(bands)]))\n",
    "ques_bands = ques_signatures.withColumn(\"Hash_Bands\",create_hash_buckets(ques_signatures.signatures)).cache()\n",
    "ques_bands.show()"
   ]
  },
  {
   "cell_type": "code",
   "execution_count": 21,
   "metadata": {},
   "outputs": [],
   "source": [
    "# ques_band_buckets = ques_bands.select([\"qid\",\"question\",\"signatures\"] + [\"Hash_Bands.band\"+str(b+1) for b in range(bands)] ).cache()\n",
    "# ques_band_buckets.show()"
   ]
  },
  {
   "cell_type": "code",
   "execution_count": null,
   "metadata": {},
   "outputs": [],
   "source": []
  },
  {
   "cell_type": "code",
   "execution_count": null,
   "metadata": {},
   "outputs": [],
   "source": []
  },
  {
   "cell_type": "code",
   "execution_count": null,
   "metadata": {},
   "outputs": [],
   "source": []
  },
  {
   "cell_type": "markdown",
   "metadata": {},
   "source": [
    "## Function to generate candidate pairs given a bucket."
   ]
  },
  {
   "cell_type": "code",
   "execution_count": 22,
   "metadata": {},
   "outputs": [],
   "source": [
    "def comparison(qid, hashed_shingles, thresh=0.75):\n",
    "    n = len(hashed_shingles)\n",
    "    \n",
    "    qid_all = []\n",
    "\n",
    "    for i in range(n):\n",
    "        for j in range(i+1,n):\n",
    "            q1 = set(hashed_shingles[i])\n",
    "            q2 = set(hashed_shingles[j])\n",
    "            \n",
    "            jac = len(q1&q2)/(1+len(q1|q2))\n",
    "            if jac>=thresh:\n",
    "                qid1 = qid[i]\n",
    "                qid2 = qid[j]\n",
    "                qid_all.append([qid1,qid2])\n",
    "\n",
    "    if len(qid_all)==0:\n",
    "        return None\n",
    "    else:\n",
    "        return qid_all"
   ]
  },
  {
   "cell_type": "markdown",
   "metadata": {},
   "source": [
    "## GENERATING CANDIDATE PAIRS"
   ]
  },
  {
   "cell_type": "code",
   "execution_count": 23,
   "metadata": {},
   "outputs": [
    {
     "name": "stdout",
     "output_type": "stream",
     "text": [
      "+-----+--------------------+-----------------------------+\n",
      "|band1|   collect_list(qid)|collect_list(hashed_shingles)|\n",
      "+-----+--------------------+-----------------------------+\n",
      "|41575|              [2496]|         [[164, 194, 195, ...|\n",
      "|18800|              [4200]|         [[1184, 1301, 132...|\n",
      "|78400|[16750, 24169, 43...|         [[6316, 8555, 266...|\n",
      "| 9376|     [24663, 122288]|         [[625, 669, 788, ...|\n",
      "|83250|             [25774]|         [[254, 733, 1237,...|\n",
      "|97186|             [32153]|         [[150, 153, 207, ...|\n",
      "|18944|             [72579]|         [[55, 158, 190, 2...|\n",
      "|63087|             [78240]|         [[40, 44, 47, 51,...|\n",
      "|26425|             [97668]|         [[64, 81, 107, 15...|\n",
      "|35820|            [108950]|         [[150, 207, 215, ...|\n",
      "| 3175|            [117696]|         [[266, 293, 332, ...|\n",
      "|90228|            [141960]|         [[150, 180, 207, ...|\n",
      "| 4900|            [145204]|         [[44, 47, 51, 146...|\n",
      "|19200|[17, 18, 26, 61, ...|         [[17, 66, 89, 90,...|\n",
      "|95151|[106, 4328, 20272...|         [[130, 133, 135, ...|\n",
      "|37025|[730, 1814, 2276,...|         [[64, 161, 196, 2...|\n",
      "|50954|              [1793]|         [[150, 207, 215, ...|\n",
      "|11500|[4848, 61983, 82865]|         [[492, 1311, 1443...|\n",
      "|66400|[8352, 8353, 1200...|         [[9, 11, 17, 18, ...|\n",
      "|85000|[11426, 13312, 55...|         [[1008, 4428, 456...|\n",
      "+-----+--------------------+-----------------------------+\n",
      "only showing top 20 rows\n",
      "\n"
     ]
    }
   ],
   "source": [
    "# for b in range(1,bands+1):\n",
    "\n",
    "b=1\n",
    "\n",
    "ques_band_b = ques_bands.groupby(\"Hash_Bands.band\"+str(b)).agg(collect_list(\"qid\"),collect_list(\"hashed_shingles\")).cache()\n",
    "ques_band_b.show()"
   ]
  },
  {
   "cell_type": "code",
   "execution_count": 24,
   "metadata": {},
   "outputs": [
    {
     "name": "stdout",
     "output_type": "stream",
     "text": [
      "+-----+--------------------+-----------------------------+--------------------+\n",
      "|band1|   collect_list(qid)|collect_list(hashed_shingles)|          Candidates|\n",
      "+-----+--------------------+-----------------------------+--------------------+\n",
      "|41575|              [2496]|         [[164, 194, 195, ...|                null|\n",
      "|18800|              [4200]|         [[1184, 1301, 132...|                null|\n",
      "|78400|[16750, 24169, 43...|         [[6316, 8555, 266...|    [[93350, 93351]]|\n",
      "| 9376|     [24663, 122288]|         [[625, 669, 788, ...|                null|\n",
      "|83250|             [25774]|         [[254, 733, 1237,...|                null|\n",
      "|97186|             [32153]|         [[150, 153, 207, ...|                null|\n",
      "|18944|             [72579]|         [[55, 158, 190, 2...|                null|\n",
      "|63087|             [78240]|         [[40, 44, 47, 51,...|                null|\n",
      "|26425|             [97668]|         [[64, 81, 107, 15...|                null|\n",
      "|35820|            [108950]|         [[150, 207, 215, ...|                null|\n",
      "| 3175|            [117696]|         [[266, 293, 332, ...|                null|\n",
      "|90228|            [141960]|         [[150, 180, 207, ...|                null|\n",
      "| 4900|            [145204]|         [[44, 47, 51, 146...|                null|\n",
      "|19200|[17, 18, 26, 61, ...|         [[17, 66, 89, 90,...|[[17, 18], [17, 3...|\n",
      "|95151|[106, 4328, 20272...|         [[130, 133, 135, ...|  [[162567, 162568]]|\n",
      "|37025|[730, 1814, 2276,...|         [[64, 161, 196, 2...|[[64482, 64483], ...|\n",
      "|50954|              [1793]|         [[150, 207, 215, ...|                null|\n",
      "|11500|[4848, 61983, 82865]|         [[492, 1311, 1443...|                null|\n",
      "|66400|[8352, 8353, 1200...|         [[9, 11, 17, 18, ...|                null|\n",
      "|85000|[11426, 13312, 55...|         [[1008, 4428, 456...|                null|\n",
      "+-----+--------------------+-----------------------------+--------------------+\n",
      "only showing top 20 rows\n",
      "\n"
     ]
    }
   ],
   "source": [
    "candidate_pairs = udf(comparison, ArrayType(ArrayType(IntegerType())))\n",
    "\n",
    "candidates_band_b = ques_band_b.withColumn(\"Candidates\",candidate_pairs(ques_band_b[1],ques_band_b[2])).cache()\n",
    "candidates_band_b.show()"
   ]
  },
  {
   "cell_type": "code",
   "execution_count": null,
   "metadata": {},
   "outputs": [],
   "source": []
  },
  {
   "cell_type": "code",
   "execution_count": null,
   "metadata": {},
   "outputs": [],
   "source": []
  },
  {
   "cell_type": "code",
   "execution_count": null,
   "metadata": {},
   "outputs": [],
   "source": []
  },
  {
   "cell_type": "code",
   "execution_count": 26,
   "metadata": {},
   "outputs": [
    {
     "name": "stdout",
     "output_type": "stream",
     "text": [
      "+--------------------+\n",
      "|          Candidates|\n",
      "+--------------------+\n",
      "|                null|\n",
      "|                null|\n",
      "|    [[93350, 93351]]|\n",
      "|                null|\n",
      "|                null|\n",
      "|                null|\n",
      "|                null|\n",
      "|                null|\n",
      "|                null|\n",
      "|                null|\n",
      "|                null|\n",
      "|                null|\n",
      "|                null|\n",
      "|[[17, 18], [17, 3...|\n",
      "|  [[162567, 162568]]|\n",
      "|[[64482, 64483], ...|\n",
      "|                null|\n",
      "|                null|\n",
      "|                null|\n",
      "|                null|\n",
      "+--------------------+\n",
      "only showing top 20 rows\n",
      "\n"
     ]
    }
   ],
   "source": [
    "pdf = candidates_band_b.select(\"Candidates\").cache()\n",
    "pdf.show()"
   ]
  },
  {
   "cell_type": "code",
   "execution_count": 29,
   "metadata": {},
   "outputs": [
    {
     "name": "stdout",
     "output_type": "stream",
     "text": [
      "+---------------+\n",
      "|     Candidates|\n",
      "+---------------+\n",
      "| [93350, 93351]|\n",
      "|       [17, 18]|\n",
      "|    [17, 38436]|\n",
      "|    [18, 38436]|\n",
      "|   [1168, 1169]|\n",
      "|   [1853, 1854]|\n",
      "|  [2504, 44486]|\n",
      "|  [2997, 63635]|\n",
      "|   [3573, 3574]|\n",
      "|  [4225, 26881]|\n",
      "| [4692, 145004]|\n",
      "|   [4979, 4980]|\n",
      "|   [7642, 9566]|\n",
      "| [9747, 103348]|\n",
      "| [11216, 11217]|\n",
      "| [14376, 30919]|\n",
      "| [14376, 44584]|\n",
      "| [14548, 22949]|\n",
      "| [15088, 15089]|\n",
      "|[15088, 109911]|\n",
      "+---------------+\n",
      "only showing top 20 rows\n",
      "\n"
     ]
    }
   ],
   "source": [
    "pdf1 = pdf.select(explode(pdf.Candidates).alias(\"Candidates\")).cache()\n",
    "pdf1.show()"
   ]
  },
  {
   "cell_type": "code",
   "execution_count": 35,
   "metadata": {},
   "outputs": [
    {
     "name": "stdout",
     "output_type": "stream",
     "text": [
      "+-----+------+\n",
      "| qid1|  qid2|\n",
      "+-----+------+\n",
      "|93350| 93351|\n",
      "|   17|    18|\n",
      "|   17| 38436|\n",
      "|   18| 38436|\n",
      "| 1168|  1169|\n",
      "| 1853|  1854|\n",
      "| 2504| 44486|\n",
      "| 2997| 63635|\n",
      "| 3573|  3574|\n",
      "| 4225| 26881|\n",
      "| 4692|145004|\n",
      "| 4979|  4980|\n",
      "| 7642|  9566|\n",
      "| 9747|103348|\n",
      "|11216| 11217|\n",
      "|14376| 30919|\n",
      "|14376| 44584|\n",
      "|14548| 22949|\n",
      "|15088| 15089|\n",
      "|15088|109911|\n",
      "+-----+------+\n",
      "only showing top 20 rows\n",
      "\n"
     ]
    }
   ],
   "source": [
    "final_csv = udf(lambda x:[x[0],x[1]], StructType([ StructField(\"qid1\", IntegerType(), False), StructField(\"qid2\", IntegerType(), False) ]))\n",
    "pdf2 = pdf1.withColumn(\"Candidate_Pairs\",final_csv(pdf1.Candidates)).cache()\n",
    "pdf3 = pdf2.select([\"Candidate_Pairs.qid1\",\"Candidate_Pairs.qid2\"]).cache()\n",
    "pdf3.show()"
   ]
  },
  {
   "cell_type": "code",
   "execution_count": 36,
   "metadata": {},
   "outputs": [],
   "source": [
    "pdf3.write.csv('band1.csv')"
   ]
  }
 ],
 "metadata": {
  "kernelspec": {
   "display_name": "Python 3",
   "language": "python",
   "name": "python3"
  },
  "language_info": {
   "codemirror_mode": {
    "name": "ipython",
    "version": 3
   },
   "file_extension": ".py",
   "mimetype": "text/x-python",
   "name": "python",
   "nbconvert_exporter": "python",
   "pygments_lexer": "ipython3",
   "version": "3.6.8"
  }
 },
 "nbformat": 4,
 "nbformat_minor": 2
}
